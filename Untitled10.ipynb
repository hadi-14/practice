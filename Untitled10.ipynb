{
 "cells": [
  {
   "cell_type": "code",
   "execution_count": null,
   "metadata": {},
   "outputs": [],
   "source": [
    "alphabet = ['A', 'B', 'C', 'D', 'E', 'F', 'G', 'H', 'I', 'J', 'K', 'L', 'M', 'N', 'O', 'P', 'Q', 'R', 'S', 'T', 'U', 'V', 'W', 'X', 'Y', 'Z']\n",
    "number = ['0', '1', '2', '3', '4', '5', '6', '7', '8', '9']\n",
    "\n",
    "emails_list = ['danishumer1@gmail.com','ahmedraza2@gmail.com','abdullahalvi3@gmail.com','hamzaahmed4@gmail.com','farazabbas5@gmail.com','zainbabur6@gmail.com','harisali7@gmail.com','sarimzahid8@gmail.com','bilalarshad9@gmail.com']\n",
    "passwords_list = ['Danishumer1', 'Ahmedraza2', 'Abdullahalvi3', 'Hamzaahmed4', 'Farazabbas5', 'Zainbabur6', 'Harisali7', 'Sarimzahid8', 'Bilalasrshad9']\n",
    "\n",
    "email_id = input(\"Enter your email ID: \")\n",
    "password = input(\"Enter your password: \")\n",
    "\n",
    "alpha = True\n",
    "num = True\n",
    "\n",
    "if email_id in emails_list:\n",
    "    #checks capital alphabets\n",
    "    for i in alphabet:\n",
    "        if i in password:\n",
    "            alpha = False\n",
    "            break\n",
    "    #checks number\n",
    "    for i in number:\n",
    "        if i in password:\n",
    "            num = False\n",
    "            break\n",
    "    if len(password) < 8:\n",
    "        print('Password is less than 8 characters')\n",
    "    elif alpha:\n",
    "        print('No capital letter in password')\n",
    "    elif num:\n",
    "        print('No number in password')\n",
    "    else:\n",
    "        for x in range(len(emails_list)):\n",
    "            if email_id == emails_list[x] and password == passwords_list[x]:\n",
    "                print('succesfully loged in')\n",
    "                break\n",
    "            elif x == len(emails_list) - 1:\n",
    "                print('incorrect password')\n",
    "else:\n",
    "    if '@' not in email_id:\n",
    "        print('@ not present')\n",
    "    elif '.com' not in email_id:\n",
    "        print('.com not present')\n",
    "    elif not email_id.endswith('.com'):\n",
    "        print('email doesnot ends with .com')\n",
    "    else:\n",
    "        print('email not registered')"
   ]
  },
  {
   "cell_type": "code",
   "execution_count": 17,
   "metadata": {},
   "outputs": [
    {
     "name": "stdout",
     "output_type": "stream",
     "text": [
      "{'danishumer1@gmail.com': 'Danishumer1', 'ahmedraza2@gmail.com': 'Ahmedraza2', 'abdullahalvi3@gmail.com': 'Abdullahalvi3', 'hamzaahmed4@gmail.com': 'Hamzaahmed4', 'farazabbas5@gmail.com': 'Farazabbas5', 'zainbabur6@gmail.com': 'Zainbabur6', 'harisali7@gmail.com': 'Harisali7', 'sarimzahid8@gmail.com': 'Sarimzahid8', 'bilalarshad9@gmail.com': 'Bilalasrshad9'}\n"
     ]
    }
   ],
   "source": [
    "ids = {}\n",
    "\n",
    "#give keys and values\n",
    "keys = ['danishumer1@gmail.com','ahmedraza2@gmail.com','abdullahalvi3@gmail.com','hamzaahmed4@gmail.com','farazabbas5@gmail.com','zainbabur6@gmail.com','harisali7@gmail.com','sarimzahid8@gmail.com','bilalarshad9@gmail.com']\n",
    "values = ['Danishumer1', 'Ahmedraza2', 'Abdullahalvi3', 'Hamzaahmed4', 'Farazabbas5', 'Zainbabur6', 'Harisali7', 'Sarimzahid8', 'Bilalasrshad9']\n",
    "\n",
    "if len(keys) == len(values):\n",
    "    for i in range(len(keys)):\n",
    "        ids[keys[i]] = values[i]\n",
    "        if i == len(keys) - 1:\n",
    "            print(ids)\n",
    "else:\n",
    "    print('number of elements doesnot match.')"
   ]
  },
  {
   "cell_type": "code",
   "execution_count": 19,
   "metadata": {},
   "outputs": [
    {
     "name": "stdout",
     "output_type": "stream",
     "text": [
      "My name is Hadi and my age is 14\n",
      "My name is Hadi and my age is 14\n"
     ]
    }
   ],
   "source": [
    "name = 'Hadi'\n",
    "age = 14\n",
    "\n",
    "print('My name is ' + name + ' and my age is ' + str(age))\n",
    "print(f'My name is {name} and my age is {age}')"
   ]
  },
  {
   "cell_type": "code",
   "execution_count": 20,
   "metadata": {},
   "outputs": [],
   "source": [
    "ids = {\n",
    "    'danishumer1@gmail.com': 'Danishumer1',\n",
    "    'ahmedraza2@gmail.com': 'Ahmedraza2',\n",
    "    'abdullahalvi3@gmail.com': 'Abdullahalvi3',\n",
    "    'hamzaahmed4@gmail.com': 'Hamzaahmed4',\n",
    "    'farazabbas5@gmail.com': 'Farazabbas5',\n",
    "    'zainbabur6@gmail.com': 'Zainbabur6',\n",
    "    'harisali7@gmail.com': 'Harisali7',\n",
    "    'sarimzahid8@gmail.com': 'Sarimzahid8',\n",
    "    'bilalarshad9@gmail.com': 'Bilalasrshad9'\n",
    "}"
   ]
  },
  {
   "cell_type": "code",
   "execution_count": 23,
   "metadata": {},
   "outputs": [
    {
     "name": "stdout",
     "output_type": "stream",
     "text": [
      "dict_keys(['name', 'age'])\n",
      "dict_values(['Rafay', 10])\n",
      "dict_items([('name', 'Rafay'), ('age', 10)])\n"
     ]
    }
   ],
   "source": [
    "std4 = {\n",
    "    'name':'Rafay',\n",
    "    'age' : 10\n",
    "}\n",
    "\n",
    "print(std4.keys())\n",
    "print(std4.values())\n",
    "print(std4.items())"
   ]
  },
  {
   "cell_type": "code",
   "execution_count": null,
   "metadata": {},
   "outputs": [],
   "source": []
  }
 ],
 "metadata": {
  "kernelspec": {
   "display_name": "Python 3",
   "language": "python",
   "name": "python3"
  },
  "language_info": {
   "codemirror_mode": {
    "name": "ipython",
    "version": 3
   },
   "file_extension": ".py",
   "mimetype": "text/x-python",
   "name": "python",
   "nbconvert_exporter": "python",
   "pygments_lexer": "ipython3",
   "version": "3.8.5"
  }
 },
 "nbformat": 4,
 "nbformat_minor": 4
}
