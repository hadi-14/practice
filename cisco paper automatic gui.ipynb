{
 "cells": [
  {
   "cell_type": "code",
   "execution_count": 3,
   "id": "0a20f25c",
   "metadata": {
    "scrolled": true
   },
   "outputs": [
    {
     "name": "stderr",
     "output_type": "stream",
     "text": [
      "C:\\Users\\Hadi-PC\\AppData\\Local\\Temp\\ipykernel_8688\\2341393995.py:4: DeprecationWarning: executable_path has been deprecated, please pass in a Service object\n",
      "  driver = webdriver.Chrome(executable_path='chromedriver.exe')\n"
     ]
    }
   ],
   "source": [
    "from selenium import webdriver\n",
    "from selenium.webdriver.common.by import By\n",
    "\n",
    "driver = webdriver.Chrome(executable_path='chromedriver.exe')\n",
    "\n",
    "# Open Webpage on ChromeDriver\n",
    "driver.get('https://www.netacad.com/portal/learning')\n",
    "\n",
    "gmail = open('gmail.txt','r')\n",
    "\n",
    "while True:\n",
    "    try:\n",
    "        login = driver.find_element(By.XPATH,'//*[@id=\"idp-discovery-username\"]')\n",
    "        login.send_keys(gmail.read())\n",
    "        login.submit()\n",
    "        gmail.close()\n",
    "        break\n",
    "    except:\n",
    "        pass\n",
    "\n",
    "password = open('password.txt','r')\n",
    "password_read = password.read()\n",
    "password.close()\n",
    "\n",
    "while True:\n",
    "    try:\n",
    "        login = driver.find_element(By.XPATH,'//*[@id=\"okta-signin-password\"]')\n",
    "        login.send_keys(password_read)\n",
    "        login.submit()\n",
    "        break\n",
    "    except:\n",
    "        pass"
   ]
  },
  {
   "cell_type": "code",
   "execution_count": 38,
   "id": "48549898",
   "metadata": {},
   "outputs": [],
   "source": [
    "courses = {}\n",
    "\n",
    "x = 1\n",
    "while True:\n",
    "    \n",
    "    #course number and names\n",
    "    try:\n",
    "        course = driver.find_element(By.XPATH,f'//*[@id=\"learning-content\"]/div[2]/div/div[1]/div[2]/div/div[{x}]/div/div[2]/div[1]/div[2]')\n",
    "        course_name = course.get_attribute('title')\n",
    "    except:\n",
    "        break\n",
    "    \n",
    "    #if you have passed the course\n",
    "    try:\n",
    "        course = driver.find_element(By.XPATH,f'//*[@id=\"learning-content\"]/div[2]/div/div[1]/div[2]/div/div[{x}]/div/div[3]/div[3]')\n",
    "        passed = 'You passed'\n",
    "    except:\n",
    "        passed = ''\n",
    "    x += 2\n",
    "    \n",
    "    courses[course_name] = passed"
   ]
  },
  {
   "cell_type": "code",
   "execution_count": 94,
   "id": "cf1b9d19",
   "metadata": {},
   "outputs": [
    {
     "name": "stderr",
     "output_type": "stream",
     "text": [
      "C:\\Users\\Hadi-PC\\AppData\\Local\\Temp\\ipykernel_7480\\2936128984.py:32: DeprecationWarning: executable_path has been deprecated, please pass in a Service object\n",
      "  driver = webdriver.Chrome(options=options,executable_path='chromedriver.exe')\n"
     ]
    }
   ],
   "source": [
    "from tkinter import *\n",
    "from functools import partial\n",
    "from selenium import webdriver\n",
    "from selenium.webdriver.common.by import By\n",
    "\n",
    "def validateLogin(username,password):\n",
    "    \n",
    "    username_id = username.get()\n",
    "    password_id = password.get()\n",
    "    \n",
    "    gmail = open('gmail.txt','r')\n",
    "        \n",
    "    if username_id != '' and password_id != '':\n",
    "        gmail_write =  open('gmail.txt','w')\n",
    "        password_write = open('password.txt','w')\n",
    "\n",
    "        gmail_write.write(username_id)\n",
    "        password_write.write(password_id)\n",
    "\n",
    "        gmail_write.close()\n",
    "        password_write.close()\n",
    "        \n",
    "    elif gmail.read() == '':\n",
    "\n",
    "        Label1 = Label(Window, text=\"Gmail id and password not saved\", font=('Arial',25)).grid(row=2, column=0, columnspan=2)  \n",
    "\n",
    "    gmail.close()\n",
    "    \n",
    "    options = webdriver.ChromeOptions()\n",
    "    options.add_experimental_option(\"detach\", True)\n",
    "    \n",
    "    driver = webdriver.Chrome(options=options,executable_path='chromedriver.exe')\n",
    "\n",
    "    # Open Webpage on ChromeDriver\n",
    "    driver.get('https://www.netacad.com/portal/learning')\n",
    "\n",
    "    gmail = open('gmail.txt','r')\n",
    "\n",
    "    #types gmail\n",
    "    while True:\n",
    "        try:\n",
    "            login = driver.find_element(By.XPATH,'//*[@id=\"idp-discovery-username\"]')\n",
    "            login.send_keys(gmail.read())\n",
    "            login.submit()\n",
    "            gmail.close()\n",
    "            break\n",
    "        except:\n",
    "            pass\n",
    "    \n",
    "    password = open('password.txt','r')\n",
    "    password_read = password.read()\n",
    "    password.close()\n",
    "    \n",
    "    #types password\n",
    "    while True:\n",
    "        try:\n",
    "            login = driver.find_element(By.XPATH,'//*[@id=\"okta-signin-password\"]')\n",
    "            login.send_keys(password_read)\n",
    "            login.submit()\n",
    "            break\n",
    "        except:\n",
    "            pass\n",
    "\n",
    "    #waits for the webpage to load\n",
    "    while True:\n",
    "        try:\n",
    "            driver.find_element(By.XPATH,'//*[@id=\"main-content\"]/div/div/h1')\n",
    "            break\n",
    "        except:\n",
    "            pass\n",
    "    \n",
    "    courses = {}\n",
    "    x = 1\n",
    "    \n",
    "    while True:\n",
    "\n",
    "        #course number and names\n",
    "        try:\n",
    "            course = driver.find_element(By.XPATH,f'//*[@id=\"learning-content\"]/div[2]/div/div[1]/div[2]/div/div[{x}]/div/div[2]/div[1]/div[2]')\n",
    "            course_name = course.get_attribute('title')\n",
    "        except:\n",
    "            break\n",
    "\n",
    "        #if you have passed the course\n",
    "        try:\n",
    "            course = driver.find_element(By.XPATH,f'//*[@id=\"learning-content\"]/div[2]/div/div[1]/div[2]/div/div[{x}]/div/div[3]/div[3]')\n",
    "            passed = 'You passed'\n",
    "            continue\n",
    "        except:\n",
    "            passed = ''\n",
    "        x += 2\n",
    "\n",
    "        courses[course_name] = passed\n",
    "        \n",
    "        \n",
    "\n",
    "#window\n",
    "Window = Tk()   \n",
    "Window.geometry('800x175')  \n",
    "Window.title('Login')\n",
    "\n",
    "#username label and text entry box\n",
    "usernameLabel = Label(Window, text=\"User Name\", font=('Arial',25)).grid(row=0, column=0)\n",
    "username = StringVar()\n",
    "usernameEntry = Entry(Window, textvariable=username, font=('Arial',25)).grid(row=0, column=1)  \n",
    "\n",
    "#password label and password entry box\n",
    "passwordLabel = Label(Window, text=\"Password\", font=('Arial',25)).grid(row=1, column=0)  \n",
    "password = StringVar()\n",
    "passwordEntry = Entry(Window, textvariable=password, show='*', font=('Arial',25)).grid(row=1, column=1)  \n",
    "\n",
    "validateLogin = partial(validateLogin,username, password)\n",
    "\n",
    "#login button\n",
    "loginButton = Button(Window, text=\"Login-Leave boxes empty if you want to use old data.\", command=validateLogin, font=('Arial',25)).grid(row=4, column=0, columnspan=2)  \n",
    "\n",
    "Window.mainloop()"
   ]
  },
  {
   "cell_type": "code",
   "execution_count": 36,
   "id": "58464831",
   "metadata": {},
   "outputs": [
    {
     "ename": "NameError",
     "evalue": "name 'courses' is not defined",
     "output_type": "error",
     "traceback": [
      "\u001b[1;31m---------------------------------------------------------------------------\u001b[0m",
      "\u001b[1;31mNameError\u001b[0m                                 Traceback (most recent call last)",
      "Input \u001b[1;32mIn [36]\u001b[0m, in \u001b[0;36m<cell line: 1>\u001b[1;34m()\u001b[0m\n\u001b[1;32m----> 1\u001b[0m \u001b[43mcourses\u001b[49m\n",
      "\u001b[1;31mNameError\u001b[0m: name 'courses' is not defined"
     ]
    }
   ],
   "source": [
    "courses"
   ]
  },
  {
   "cell_type": "code",
   "execution_count": null,
   "id": "626c725b",
   "metadata": {},
   "outputs": [],
   "source": [
    "for i in range(len(courses.keys())):\n",
    "    button = Button(Window, text=i, )"
   ]
  },
  {
   "cell_type": "code",
   "execution_count": 104,
   "id": "bd48dba7",
   "metadata": {},
   "outputs": [],
   "source": [
    "from bs4 import BeautifulSoup as bs\n",
    "import requests\n",
    "\n",
    "response = requests.get('https://itexamanswers.net/introduction-to-the-internet-of-things-iot-exam-answers.html')\n",
    "\n",
    "soup = bs(response.text,'html.parser')\n",
    "\n",
    "links = soup.table.tbody.find_all('tr')\n",
    "\n",
    "quiz,exams = {},{}\n",
    "\n",
    "for i in links:\n",
    "    if 'Quiz' in i.td.a.text:\n",
    "        quiz[i.td.a.text[22:36]] = i.td.a['href']\n",
    "    elif 'Exam' in i.td.a.text:\n",
    "        exams[i.td.a.text[20:-8]] = i.td.a['href']"
   ]
  },
  {
   "cell_type": "code",
   "execution_count": 86,
   "id": "e9dee567",
   "metadata": {},
   "outputs": [],
   "source": [
    "response = requests.get('https://infraexam.com/cisco-netacad/')\n",
    "\n",
    "soup = bs(response.text,'html.parser')"
   ]
  },
  {
   "cell_type": "code",
   "execution_count": 103,
   "id": "9ae5839f",
   "metadata": {},
   "outputs": [
    {
     "name": "stdout",
     "output_type": "stream",
     "text": [
      "IT Essentials 7 & 7.02\n",
      "Networking Essentials 2.0\n",
      "CCNA v7 & 7.02\n",
      "CCNA1 v7 & 7.02\n",
      "CCNA2 v7 & 7.02\n",
      "CCNA3 v7 & 7.02\n",
      "Network Security 1.0\n",
      "CyberSecurity\n",
      "Introduction to Cybersecurity 2.12 (Level 1)\n",
      "Cybersecurity Essentials 1.12 (Level 2)\n",
      "CyberOps Associate 1.0 (Level 3)\n",
      "DevNet – DEVASC\n",
      "CCNP v8\n",
      "CCNP ENCOR\n",
      "CCNP ENARSI\n"
     ]
    }
   ],
   "source": [
    "for i in soup.find_all('h3'):\n",
    "    print(i.text)"
   ]
  },
  {
   "cell_type": "code",
   "execution_count": null,
   "id": "3de51d2b",
   "metadata": {},
   "outputs": [],
   "source": []
  }
 ],
 "metadata": {
  "kernelspec": {
   "display_name": "Python 3 (ipykernel)",
   "language": "python",
   "name": "python3"
  },
  "language_info": {
   "codemirror_mode": {
    "name": "ipython",
    "version": 3
   },
   "file_extension": ".py",
   "mimetype": "text/x-python",
   "name": "python",
   "nbconvert_exporter": "python",
   "pygments_lexer": "ipython3",
   "version": "3.9.12"
  }
 },
 "nbformat": 4,
 "nbformat_minor": 5
}
