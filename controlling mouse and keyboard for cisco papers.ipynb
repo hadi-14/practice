{
 "cells": [
  {
   "cell_type": "code",
   "execution_count": 43,
   "id": "3cfaa926",
   "metadata": {},
   "outputs": [],
   "source": [
    "import mouse,time,pyautogui\n",
    "\n",
    "for i in range(22): \n",
    "    \n",
    "    mouse.move(179,989)\n",
    "        \n",
    "    mouse.click('left')\n",
    "    \n",
    "    time.sleep(3)\n",
    "    \n",
    "    mouse.move(52,248)\n",
    "    \n",
    "    mouse.click('left')\n",
    "    mouse.click('left')\n",
    "    mouse.click('left')\n",
    "    \n",
    "    mouse.click('right')\n",
    "    \n",
    "    mouse.move(59,252)\n",
    "    \n",
    "    time.sleep(.5)\n",
    "    \n",
    "    mouse.click('left')\n",
    "    \n",
    "    time.sleep(.5)\n",
    "    \n",
    "    mouse.move(1414,100)\n",
    "    \n",
    "    mouse.click('left')\n",
    "    mouse.click('left')\n",
    "    mouse.click('left')\n",
    "    \n",
    "    mouse.click('right')\n",
    "    \n",
    "    mouse.move(1486,242)\n",
    "    \n",
    "    mouse.click('left')\n",
    "    \n",
    "    pyautogui.press('Enter')\n",
    "    \n",
    "    time.sleep(6)\n",
    "    "
   ]
  },
  {
   "cell_type": "code",
   "execution_count": null,
   "id": "1d7fc966",
   "metadata": {},
   "outputs": [],
   "source": [
    "while True:\n",
    "    time.sleep(1)\n",
    "    print(mouse.get_position())"
   ]
  }
 ],
 "metadata": {
  "kernelspec": {
   "display_name": "Python 3 (ipykernel)",
   "language": "python",
   "name": "python3"
  },
  "language_info": {
   "codemirror_mode": {
    "name": "ipython",
    "version": 3
   },
   "file_extension": ".py",
   "mimetype": "text/x-python",
   "name": "python",
   "nbconvert_exporter": "python",
   "pygments_lexer": "ipython3",
   "version": "3.9.7"
  }
 },
 "nbformat": 4,
 "nbformat_minor": 5
}
