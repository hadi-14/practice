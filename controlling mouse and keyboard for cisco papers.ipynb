{
 "cells": [
  {
   "cell_type": "code",
   "execution_count": 43,
   "id": "574a32c4",
   "metadata": {},
   "outputs": [],
   "source": [
    "import mouse,time,pyautogui\n",
    "\n",
    "for i in range(22): \n",
    "    # clicks next or begin assignment\n",
    "    mouse.move(179,989)\n",
    "        \n",
    "    mouse.click('left')\n",
    "    \n",
    "    time.sleep(3)\n",
    "    #copies the question\n",
    "    mouse.move(52,248)\n",
    "    \n",
    "    mouse.click('left')\n",
    "    mouse.click('left')\n",
    "    mouse.click('left')\n",
    "    \n",
    "    mouse.click('right')\n",
    "    \n",
    "    mouse.move(59,252)\n",
    "    \n",
    "    time.sleep(.5)\n",
    "    \n",
    "    mouse.click('left')\n",
    "    \n",
    "    time.sleep(.5)\n",
    "    #paste the question in find box\n",
    "    mouse.move(1414,100)\n",
    "    \n",
    "    mouse.click('left')\n",
    "    mouse.click('left')\n",
    "    mouse.click('left')\n",
    "    \n",
    "    mouse.click('right')\n",
    "    \n",
    "    mouse.move(1486,242)\n",
    "    \n",
    "    mouse.click('left')\n",
    "    \n",
    "    pyautogui.press('Enter')\n",
    "    \n",
    "    time.sleep(6)\n",
    "    "
   ]
  },
  {
   "cell_type": "code",
   "execution_count": 44,
   "id": "95d0aac4",
   "metadata": {},
   "outputs": [
    {
     "name": "stdout",
     "output_type": "stream",
     "text": [
      "(965, 550)\n",
      "(1024, 474)\n",
      "(183, 21)\n",
      "(1585, 352)\n",
      "(1640, 166)\n",
      "(1607, 316)\n",
      "(1522, 413)\n",
      "(1522, 413)\n",
      "(676, 893)\n",
      "(532, 946)\n",
      "(532, 946)\n",
      "(626, 677)\n",
      "(722, 223)\n"
     ]
    },
    {
     "ename": "KeyboardInterrupt",
     "evalue": "",
     "output_type": "error",
     "traceback": [
      "\u001b[1;31m---------------------------------------------------------------------------\u001b[0m",
      "\u001b[1;31mKeyboardInterrupt\u001b[0m                         Traceback (most recent call last)",
      "\u001b[1;32m~\\AppData\\Local\\Temp/ipykernel_4360/3604997061.py\u001b[0m in \u001b[0;36m<module>\u001b[1;34m\u001b[0m\n\u001b[0;32m      1\u001b[0m \u001b[1;32mwhile\u001b[0m \u001b[1;32mTrue\u001b[0m\u001b[1;33m:\u001b[0m\u001b[1;33m\u001b[0m\u001b[1;33m\u001b[0m\u001b[0m\n\u001b[1;32m----> 2\u001b[1;33m     \u001b[0mtime\u001b[0m\u001b[1;33m.\u001b[0m\u001b[0msleep\u001b[0m\u001b[1;33m(\u001b[0m\u001b[1;36m1\u001b[0m\u001b[1;33m)\u001b[0m\u001b[1;33m\u001b[0m\u001b[1;33m\u001b[0m\u001b[0m\n\u001b[0m\u001b[0;32m      3\u001b[0m     \u001b[0mprint\u001b[0m\u001b[1;33m(\u001b[0m\u001b[0mmouse\u001b[0m\u001b[1;33m.\u001b[0m\u001b[0mget_position\u001b[0m\u001b[1;33m(\u001b[0m\u001b[1;33m)\u001b[0m\u001b[1;33m)\u001b[0m\u001b[1;33m\u001b[0m\u001b[1;33m\u001b[0m\u001b[0m\n",
      "\u001b[1;31mKeyboardInterrupt\u001b[0m: "
     ]
    }
   ],
   "source": [
    "while True:\n",
    "    time.sleep(1)\n",
    "    print(mouse.get_position())"
   ]
  }
 ],
 "metadata": {
  "kernelspec": {
   "display_name": "Python 3 (ipykernel)",
   "language": "python",
   "name": "python3"
  },
  "language_info": {
   "codemirror_mode": {
    "name": "ipython",
    "version": 3
   },
   "file_extension": ".py",
   "mimetype": "text/x-python",
   "name": "python",
   "nbconvert_exporter": "python",
   "pygments_lexer": "ipython3",
   "version": "3.9.7"
  }
 },
 "nbformat": 4,
 "nbformat_minor": 5
}
