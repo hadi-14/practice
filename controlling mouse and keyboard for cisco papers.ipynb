{
 "cells": [
  {
   "cell_type": "code",
   "execution_count": 3,
   "id": "574a32c4",
   "metadata": {},
   "outputs": [
    {
     "ename": "KeyboardInterrupt",
     "evalue": "",
     "output_type": "error",
     "traceback": [
      "\u001b[1;31m---------------------------------------------------------------------------\u001b[0m",
      "\u001b[1;31mKeyboardInterrupt\u001b[0m                         Traceback (most recent call last)",
      "\u001b[1;32m~\\AppData\\Local\\Temp/ipykernel_9424/1495412317.py\u001b[0m in \u001b[0;36m<module>\u001b[1;34m\u001b[0m\n\u001b[0;32m     35\u001b[0m     \u001b[0mpyautogui\u001b[0m\u001b[1;33m.\u001b[0m\u001b[0mpress\u001b[0m\u001b[1;33m(\u001b[0m\u001b[1;34m'Enter'\u001b[0m\u001b[1;33m)\u001b[0m\u001b[1;33m\u001b[0m\u001b[1;33m\u001b[0m\u001b[0m\n\u001b[0;32m     36\u001b[0m \u001b[1;33m\u001b[0m\u001b[0m\n\u001b[1;32m---> 37\u001b[1;33m     \u001b[0mtime\u001b[0m\u001b[1;33m.\u001b[0m\u001b[0msleep\u001b[0m\u001b[1;33m(\u001b[0m\u001b[1;36m6\u001b[0m\u001b[1;33m)\u001b[0m\u001b[1;33m\u001b[0m\u001b[1;33m\u001b[0m\u001b[0m\n\u001b[0m\u001b[0;32m     38\u001b[0m \u001b[1;33m\u001b[0m\u001b[0m\n",
      "\u001b[1;31mKeyboardInterrupt\u001b[0m: "
     ]
    }
   ],
   "source": [
    "import time,pyautogui\n",
    "\n",
    "for i in range(22): \n",
    "    # clicks next or begin assignment\n",
    "    pyautogui.moveTo(179,989)\n",
    "        \n",
    "    pyautogui.click()\n",
    "    \n",
    "    time.sleep(3)\n",
    "    #copies the question\n",
    "    pyautogui.moveTo(52,248)\n",
    "    \n",
    "    pyautogui.tripleClick()ii\n",
    "    \n",
    "    pyautogui.rightClick()\n",
    "    \n",
    "    pyautogui.moveTo(59,252)\n",
    "    \n",
    "    time.sleep(.5)\n",
    "    \n",
    "    pyautogui.click()\n",
    "    \n",
    "    time.sleep(.5)\n",
    "    #paste the question in find box\n",
    "    pyautogui.move(1414,100)\n",
    "    \n",
    "    pyautogui.tripleClick()\n",
    "    \n",
    "    pyautogui.rightClick()\n",
    "    \n",
    "    pyautogui.moveTo(1486,242)\n",
    "    \n",
    "    pyautogui.click()\n",
    "    \n",
    "    pyautogui.press('Enter')\n",
    "    \n",
    "    time.sleep(6)\n",
    "    "
   ]
  },
  {
   "cell_type": "code",
   "execution_count": 4,
   "id": "95d0aac4",
   "metadata": {
    "scrolled": true
   },
   "outputs": [
    {
     "name": "stdout",
     "output_type": "stream",
     "text": [
      "Point(x=583, y=493)\n",
      "Point(x=583, y=493)\n",
      "Point(x=773, y=697)\n",
      "Point(x=970, y=653)\n",
      "Point(x=1041, y=876)\n",
      "Point(x=1034, y=873)\n",
      "Point(x=1029, y=872)\n",
      "Point(x=1029, y=872)\n",
      "Point(x=1029, y=872)\n",
      "Point(x=590, y=744)\n"
     ]
    }
   ],
   "source": [
    "for i in range(10):\n",
    "    time.sleep(1)\n",
    "    print(pyautogui.position())"
   ]
  },
  {
   "cell_type": "code",
   "execution_count": null,
   "id": "09533770",
   "metadata": {},
   "outputs": [],
   "source": []
  }
 ],
 "metadata": {
  "kernelspec": {
   "display_name": "Python 3 (ipykernel)",
   "language": "python",
   "name": "python3"
  },
  "language_info": {
   "codemirror_mode": {
    "name": "ipython",
    "version": 3
   },
   "file_extension": ".py",
   "mimetype": "text/x-python",
   "name": "python",
   "nbconvert_exporter": "python",
   "pygments_lexer": "ipython3",
   "version": "3.9.7"
  }
 },
 "nbformat": 4,
 "nbformat_minor": 5
}
