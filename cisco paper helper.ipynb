{
 "cells": [
  {
   "cell_type": "code",
   "execution_count": 7,
   "id": "f0b0b032",
   "metadata": {},
   "outputs": [],
   "source": [
    "import pyautogui,time"
   ]
  },
  {
   "cell_type": "code",
   "execution_count": null,
   "id": "c6ba257f",
   "metadata": {},
   "outputs": [],
   "source": [
    "import time,pyautogui\n",
    "\n",
    "x,y = pyautogui.size()\n",
    "\n",
    "for i in range(22): \n",
    "    # clicks next or begin assignment\n",
    "    pyautogui.moveTo(x * 0.095,y * 0.912)\n",
    "        \n",
    "    pyautogui.click()\n",
    "    \n",
    "    time.sleep(3)\n",
    "    #copies the question\n",
    "    pyautogui.moveTo(x * 0.027,y * 0.229)\n",
    "    \n",
    "    pyautogui.tripleClick()\n",
    "    \n",
    "    pyautogui.rightClick()\n",
    "    \n",
    "    pyautogui.moveTo(x * 0.03,y * 0.233)\n",
    "    \n",
    "    time.sleep(.5)\n",
    "    \n",
    "    pyautogui.click()\n",
    "    \n",
    "    time.sleep(.5)\n",
    "    #paste the question in find box\n",
    "    pyautogui.move(x * 0.736,y * 0.092)\n",
    "    \n",
    "    pyautogui.tripleClick()\n",
    "    \n",
    "    pyautogui.rightClick()\n",
    "    \n",
    "    pyautogui.moveTo(x * 0.773,y * 0.224)\n",
    "    \n",
    "    pyautogui.click()\n",
    "    \n",
    "    pyautogui.press('Enter')\n",
    "    \n",
    "    time.sleep(10)"
   ]
  },
  {
   "cell_type": "code",
   "execution_count": 10,
   "id": "84d0cd47",
   "metadata": {
    "scrolled": false
   },
   "outputs": [
    {
     "name": "stdout",
     "output_type": "stream",
     "text": [
      "0.9994791666666667 0.9981481481481481\n",
      "0.9994791666666667 0.9981481481481481\n",
      "0.9994791666666667 0.9990740740740741\n",
      "0.9994791666666667 0.9990740740740741\n",
      "0.9994791666666667 0.9990740740740741\n",
      "0.9994791666666667 0.9990740740740741\n",
      "0.9994791666666667 0.9990740740740741\n",
      "0.8619791666666666 0.8472222222222222\n",
      "0.003125 0.0\n",
      "0.4734375 0.6666666666666666\n"
     ]
    }
   ],
   "source": [
    "a,b = pyautogui.size()\n",
    "\n",
    "for i in range(10):\n",
    "    time.sleep(1)\n",
    "    x,y = pyautogui.position()\n",
    "    print(x/a,y/b)"
   ]
  }
 ],
 "metadata": {
  "kernelspec": {
   "display_name": "Python 3 (ipykernel)",
   "language": "python",
   "name": "python3"
  },
  "language_info": {
   "codemirror_mode": {
    "name": "ipython",
    "version": 3
   },
   "file_extension": ".py",
   "mimetype": "text/x-python",
   "name": "python",
   "nbconvert_exporter": "python",
   "pygments_lexer": "ipython3",
   "version": "3.9.7"
  }
 },
 "nbformat": 4,
 "nbformat_minor": 5
}
